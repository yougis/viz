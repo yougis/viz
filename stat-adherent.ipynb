{
 "cells": [
  {
   "cell_type": "code",
   "execution_count": 327,
   "metadata": {},
   "outputs": [],
   "source": [
    "import pandas as pd\n",
    "import panel as pn\n",
    "\n",
    "pn.extension()\n",
    "import hvplot as hv\n",
    "import hvplot.pandas\n",
    "import holoviews as hv\n",
    "from holoviews import opts# noqa"
   ]
  },
  {
   "cell_type": "code",
   "execution_count": 328,
   "metadata": {},
   "outputs": [],
   "source": [
    "data = pd.read_csv('a-Liste des adhérents_cleaned.csv')"
   ]
  },
  {
   "cell_type": "code",
   "execution_count": 329,
   "metadata": {},
   "outputs": [
    {
     "data": {
      "text/html": [
       "<div>\n",
       "<style scoped>\n",
       "    .dataframe tbody tr th:only-of-type {\n",
       "        vertical-align: middle;\n",
       "    }\n",
       "\n",
       "    .dataframe tbody tr th {\n",
       "        vertical-align: top;\n",
       "    }\n",
       "\n",
       "    .dataframe thead th {\n",
       "        text-align: right;\n",
       "    }\n",
       "</style>\n",
       "<table border=\"1\" class=\"dataframe\">\n",
       "  <thead>\n",
       "    <tr style=\"text-align: right;\">\n",
       "      <th></th>\n",
       "      <th>Métropole</th>\n",
       "      <th>Date d'adhésion</th>\n",
       "      <th>Prénom</th>\n",
       "      <th>NOM</th>\n",
       "      <th>nb Adhérents</th>\n",
       "      <th>indiv</th>\n",
       "      <th>famille</th>\n",
       "      <th>Nom des membres famille</th>\n",
       "      <th>Adresse mail</th>\n",
       "      <th>Lieu de résidence</th>\n",
       "      <th>...</th>\n",
       "      <th>préparation et tenue de stand</th>\n",
       "      <th>élaboration de supports de communication</th>\n",
       "      <th>veille sur l'actualité du vélo</th>\n",
       "      <th>amélioration de la réglementation</th>\n",
       "      <th>atelier de réparation</th>\n",
       "      <th>cartographie collaborative</th>\n",
       "      <th>autre, précisez.2</th>\n",
       "      <th>Unnamed: 43</th>\n",
       "      <th>Unnamed: 44</th>\n",
       "      <th>Vos attentes</th>\n",
       "    </tr>\n",
       "  </thead>\n",
       "  <tbody>\n",
       "    <tr>\n",
       "      <th>0</th>\n",
       "      <td>x</td>\n",
       "      <td>21/03/2014</td>\n",
       "      <td>Manuel</td>\n",
       "      <td>LEGER</td>\n",
       "      <td>1.0</td>\n",
       "      <td>NaN</td>\n",
       "      <td>NaN</td>\n",
       "      <td>NaN</td>\n",
       "      <td>leger_manuel@yahoo.fr</td>\n",
       "      <td>Nouméa</td>\n",
       "      <td>...</td>\n",
       "      <td>NaN</td>\n",
       "      <td>NaN</td>\n",
       "      <td>NaN</td>\n",
       "      <td>NaN</td>\n",
       "      <td>NaN</td>\n",
       "      <td>NaN</td>\n",
       "      <td>NaN</td>\n",
       "      <td>NaN</td>\n",
       "      <td>NaN</td>\n",
       "      <td>NaN</td>\n",
       "    </tr>\n",
       "    <tr>\n",
       "      <th>1</th>\n",
       "      <td>x</td>\n",
       "      <td>21/03/2014</td>\n",
       "      <td>Emmanuelle</td>\n",
       "      <td>SAILLY</td>\n",
       "      <td>1.0</td>\n",
       "      <td>NaN</td>\n",
       "      <td>NaN</td>\n",
       "      <td>NaN</td>\n",
       "      <td>NaN</td>\n",
       "      <td>Nouméa</td>\n",
       "      <td>...</td>\n",
       "      <td>NaN</td>\n",
       "      <td>NaN</td>\n",
       "      <td>NaN</td>\n",
       "      <td>NaN</td>\n",
       "      <td>NaN</td>\n",
       "      <td>NaN</td>\n",
       "      <td>NaN</td>\n",
       "      <td>NaN</td>\n",
       "      <td>NaN</td>\n",
       "      <td>NaN</td>\n",
       "    </tr>\n",
       "    <tr>\n",
       "      <th>2</th>\n",
       "      <td>NaN</td>\n",
       "      <td>29/03/2014</td>\n",
       "      <td>Luc</td>\n",
       "      <td>MICHEL</td>\n",
       "      <td>1.0</td>\n",
       "      <td>NaN</td>\n",
       "      <td>NaN</td>\n",
       "      <td>NaN</td>\n",
       "      <td>mail supprimé à la demande de Luc Michel</td>\n",
       "      <td>Nouméa</td>\n",
       "      <td>...</td>\n",
       "      <td>NaN</td>\n",
       "      <td>NaN</td>\n",
       "      <td>NaN</td>\n",
       "      <td>NaN</td>\n",
       "      <td>NaN</td>\n",
       "      <td>NaN</td>\n",
       "      <td>NaN</td>\n",
       "      <td>NaN</td>\n",
       "      <td>NaN</td>\n",
       "      <td>Voies protégées. Vélos électriques à prix rais...</td>\n",
       "    </tr>\n",
       "    <tr>\n",
       "      <th>3</th>\n",
       "      <td>NaN</td>\n",
       "      <td>29/03/2014</td>\n",
       "      <td>Michèle</td>\n",
       "      <td>JOHN</td>\n",
       "      <td>1.0</td>\n",
       "      <td>NaN</td>\n",
       "      <td>NaN</td>\n",
       "      <td>NaN</td>\n",
       "      <td>michele.c.john@gmail.com</td>\n",
       "      <td>Nouméa</td>\n",
       "      <td>...</td>\n",
       "      <td>NaN</td>\n",
       "      <td>NaN</td>\n",
       "      <td>NaN</td>\n",
       "      <td>NaN</td>\n",
       "      <td>NaN</td>\n",
       "      <td>NaN</td>\n",
       "      <td>NaN</td>\n",
       "      <td>NaN</td>\n",
       "      <td>NaN</td>\n",
       "      <td>NaN</td>\n",
       "    </tr>\n",
       "    <tr>\n",
       "      <th>4</th>\n",
       "      <td>NaN</td>\n",
       "      <td>29/03/2014</td>\n",
       "      <td>Daniel</td>\n",
       "      <td>BRETAUDEAU</td>\n",
       "      <td>1.0</td>\n",
       "      <td>NaN</td>\n",
       "      <td>NaN</td>\n",
       "      <td>NaN</td>\n",
       "      <td>danielbretaudeau@gmail.com</td>\n",
       "      <td>NaN</td>\n",
       "      <td>...</td>\n",
       "      <td>NaN</td>\n",
       "      <td>NaN</td>\n",
       "      <td>NaN</td>\n",
       "      <td>NaN</td>\n",
       "      <td>NaN</td>\n",
       "      <td>NaN</td>\n",
       "      <td>NaN</td>\n",
       "      <td>NaN</td>\n",
       "      <td>NaN</td>\n",
       "      <td>NaN</td>\n",
       "    </tr>\n",
       "  </tbody>\n",
       "</table>\n",
       "<p>5 rows × 46 columns</p>\n",
       "</div>"
      ],
      "text/plain": [
       "  Métropole Date d'adhésion      Prénom         NOM  nb Adhérents  indiv  \\\n",
       "0         x      21/03/2014      Manuel       LEGER           1.0    NaN   \n",
       "1         x      21/03/2014  Emmanuelle      SAILLY           1.0    NaN   \n",
       "2       NaN      29/03/2014         Luc      MICHEL           1.0    NaN   \n",
       "3       NaN      29/03/2014     Michèle        JOHN           1.0    NaN   \n",
       "4       NaN      29/03/2014      Daniel  BRETAUDEAU           1.0    NaN   \n",
       "\n",
       "   famille Nom des membres famille                              Adresse mail  \\\n",
       "0      NaN                     NaN                     leger_manuel@yahoo.fr   \n",
       "1      NaN                     NaN                                       NaN   \n",
       "2      NaN                     NaN  mail supprimé à la demande de Luc Michel   \n",
       "3      NaN                     NaN                  michele.c.john@gmail.com   \n",
       "4      NaN                     NaN                danielbretaudeau@gmail.com   \n",
       "\n",
       "  Lieu de résidence  ... préparation et tenue de stand  \\\n",
       "0            Nouméa  ...                           NaN   \n",
       "1            Nouméa  ...                           NaN   \n",
       "2            Nouméa  ...                           NaN   \n",
       "3            Nouméa  ...                           NaN   \n",
       "4               NaN  ...                           NaN   \n",
       "\n",
       "   élaboration de supports de communication  veille sur l'actualité du vélo  \\\n",
       "0                                       NaN                             NaN   \n",
       "1                                       NaN                             NaN   \n",
       "2                                       NaN                             NaN   \n",
       "3                                       NaN                             NaN   \n",
       "4                                       NaN                             NaN   \n",
       "\n",
       "   amélioration de la réglementation  atelier de réparation  \\\n",
       "0                                NaN                    NaN   \n",
       "1                                NaN                    NaN   \n",
       "2                                NaN                    NaN   \n",
       "3                                NaN                    NaN   \n",
       "4                                NaN                    NaN   \n",
       "\n",
       "    cartographie collaborative autre, précisez.2  Unnamed: 43  Unnamed: 44  \\\n",
       "0                          NaN               NaN          NaN          NaN   \n",
       "1                          NaN               NaN          NaN          NaN   \n",
       "2                          NaN               NaN          NaN          NaN   \n",
       "3                          NaN               NaN          NaN          NaN   \n",
       "4                          NaN               NaN          NaN          NaN   \n",
       "\n",
       "                                        Vos attentes  \n",
       "0                                                NaN  \n",
       "1                                                NaN  \n",
       "2  Voies protégées. Vélos électriques à prix rais...  \n",
       "3                                                NaN  \n",
       "4                                                NaN  \n",
       "\n",
       "[5 rows x 46 columns]"
      ]
     },
     "execution_count": 329,
     "metadata": {},
     "output_type": "execute_result"
    }
   ],
   "source": [
    "data.head()"
   ]
  },
  {
   "cell_type": "code",
   "execution_count": 330,
   "metadata": {},
   "outputs": [],
   "source": [
    "data[\"date_adhesion\"] = pd.to_datetime(data[\"Date d'adhésion\"],format='%d/%m/%Y')\n"
   ]
  },
  {
   "cell_type": "code",
   "execution_count": 331,
   "metadata": {},
   "outputs": [
    {
     "data": {
      "text/html": [
       "<div>\n",
       "<style scoped>\n",
       "    .dataframe tbody tr th:only-of-type {\n",
       "        vertical-align: middle;\n",
       "    }\n",
       "\n",
       "    .dataframe tbody tr th {\n",
       "        vertical-align: top;\n",
       "    }\n",
       "\n",
       "    .dataframe thead th {\n",
       "        text-align: right;\n",
       "    }\n",
       "</style>\n",
       "<table border=\"1\" class=\"dataframe\">\n",
       "  <thead>\n",
       "    <tr style=\"text-align: right;\">\n",
       "      <th></th>\n",
       "      <th>Métropole</th>\n",
       "      <th>Date d'adhésion</th>\n",
       "      <th>Prénom</th>\n",
       "      <th>NOM</th>\n",
       "      <th>nb Adhérents</th>\n",
       "      <th>indiv</th>\n",
       "      <th>famille</th>\n",
       "      <th>Nom des membres famille</th>\n",
       "      <th>Adresse mail</th>\n",
       "      <th>Lieu de résidence</th>\n",
       "      <th>...</th>\n",
       "      <th>veille sur l'actualité du vélo</th>\n",
       "      <th>amélioration de la réglementation</th>\n",
       "      <th>atelier de réparation</th>\n",
       "      <th>cartographie collaborative</th>\n",
       "      <th>autre, précisez.2</th>\n",
       "      <th>Unnamed: 43</th>\n",
       "      <th>Unnamed: 44</th>\n",
       "      <th>Vos attentes</th>\n",
       "      <th>date_adhesion</th>\n",
       "      <th>montant_adhesion</th>\n",
       "    </tr>\n",
       "  </thead>\n",
       "  <tbody>\n",
       "    <tr>\n",
       "      <th>0</th>\n",
       "      <td>x</td>\n",
       "      <td>21/03/2014</td>\n",
       "      <td>Manuel</td>\n",
       "      <td>LEGER</td>\n",
       "      <td>1.0</td>\n",
       "      <td>NaN</td>\n",
       "      <td>NaN</td>\n",
       "      <td>NaN</td>\n",
       "      <td>leger_manuel@yahoo.fr</td>\n",
       "      <td>Nouméa</td>\n",
       "      <td>...</td>\n",
       "      <td>NaN</td>\n",
       "      <td>NaN</td>\n",
       "      <td>NaN</td>\n",
       "      <td>NaN</td>\n",
       "      <td>NaN</td>\n",
       "      <td>NaN</td>\n",
       "      <td>NaN</td>\n",
       "      <td>NaN</td>\n",
       "      <td>2014-03-21</td>\n",
       "      <td>2000</td>\n",
       "    </tr>\n",
       "    <tr>\n",
       "      <th>1</th>\n",
       "      <td>x</td>\n",
       "      <td>21/03/2014</td>\n",
       "      <td>Emmanuelle</td>\n",
       "      <td>SAILLY</td>\n",
       "      <td>1.0</td>\n",
       "      <td>NaN</td>\n",
       "      <td>NaN</td>\n",
       "      <td>NaN</td>\n",
       "      <td>NaN</td>\n",
       "      <td>Nouméa</td>\n",
       "      <td>...</td>\n",
       "      <td>NaN</td>\n",
       "      <td>NaN</td>\n",
       "      <td>NaN</td>\n",
       "      <td>NaN</td>\n",
       "      <td>NaN</td>\n",
       "      <td>NaN</td>\n",
       "      <td>NaN</td>\n",
       "      <td>NaN</td>\n",
       "      <td>2014-03-21</td>\n",
       "      <td>2000</td>\n",
       "    </tr>\n",
       "    <tr>\n",
       "      <th>2</th>\n",
       "      <td>NaN</td>\n",
       "      <td>29/03/2014</td>\n",
       "      <td>Luc</td>\n",
       "      <td>MICHEL</td>\n",
       "      <td>1.0</td>\n",
       "      <td>NaN</td>\n",
       "      <td>NaN</td>\n",
       "      <td>NaN</td>\n",
       "      <td>mail supprimé à la demande de Luc Michel</td>\n",
       "      <td>Nouméa</td>\n",
       "      <td>...</td>\n",
       "      <td>NaN</td>\n",
       "      <td>NaN</td>\n",
       "      <td>NaN</td>\n",
       "      <td>NaN</td>\n",
       "      <td>NaN</td>\n",
       "      <td>NaN</td>\n",
       "      <td>NaN</td>\n",
       "      <td>Voies protégées. Vélos électriques à prix rais...</td>\n",
       "      <td>2014-03-29</td>\n",
       "      <td>2000</td>\n",
       "    </tr>\n",
       "    <tr>\n",
       "      <th>3</th>\n",
       "      <td>NaN</td>\n",
       "      <td>29/03/2014</td>\n",
       "      <td>Michèle</td>\n",
       "      <td>JOHN</td>\n",
       "      <td>1.0</td>\n",
       "      <td>NaN</td>\n",
       "      <td>NaN</td>\n",
       "      <td>NaN</td>\n",
       "      <td>michele.c.john@gmail.com</td>\n",
       "      <td>Nouméa</td>\n",
       "      <td>...</td>\n",
       "      <td>NaN</td>\n",
       "      <td>NaN</td>\n",
       "      <td>NaN</td>\n",
       "      <td>NaN</td>\n",
       "      <td>NaN</td>\n",
       "      <td>NaN</td>\n",
       "      <td>NaN</td>\n",
       "      <td>NaN</td>\n",
       "      <td>2014-03-29</td>\n",
       "      <td>2000</td>\n",
       "    </tr>\n",
       "    <tr>\n",
       "      <th>4</th>\n",
       "      <td>NaN</td>\n",
       "      <td>29/03/2014</td>\n",
       "      <td>Daniel</td>\n",
       "      <td>BRETAUDEAU</td>\n",
       "      <td>1.0</td>\n",
       "      <td>NaN</td>\n",
       "      <td>NaN</td>\n",
       "      <td>NaN</td>\n",
       "      <td>danielbretaudeau@gmail.com</td>\n",
       "      <td>NaN</td>\n",
       "      <td>...</td>\n",
       "      <td>NaN</td>\n",
       "      <td>NaN</td>\n",
       "      <td>NaN</td>\n",
       "      <td>NaN</td>\n",
       "      <td>NaN</td>\n",
       "      <td>NaN</td>\n",
       "      <td>NaN</td>\n",
       "      <td>NaN</td>\n",
       "      <td>2014-03-29</td>\n",
       "      <td>2000</td>\n",
       "    </tr>\n",
       "  </tbody>\n",
       "</table>\n",
       "<p>5 rows × 48 columns</p>\n",
       "</div>"
      ],
      "text/plain": [
       "  Métropole Date d'adhésion      Prénom         NOM  nb Adhérents  indiv  \\\n",
       "0         x      21/03/2014      Manuel       LEGER           1.0    NaN   \n",
       "1         x      21/03/2014  Emmanuelle      SAILLY           1.0    NaN   \n",
       "2       NaN      29/03/2014         Luc      MICHEL           1.0    NaN   \n",
       "3       NaN      29/03/2014     Michèle        JOHN           1.0    NaN   \n",
       "4       NaN      29/03/2014      Daniel  BRETAUDEAU           1.0    NaN   \n",
       "\n",
       "   famille Nom des membres famille                              Adresse mail  \\\n",
       "0      NaN                     NaN                     leger_manuel@yahoo.fr   \n",
       "1      NaN                     NaN                                       NaN   \n",
       "2      NaN                     NaN  mail supprimé à la demande de Luc Michel   \n",
       "3      NaN                     NaN                  michele.c.john@gmail.com   \n",
       "4      NaN                     NaN                danielbretaudeau@gmail.com   \n",
       "\n",
       "  Lieu de résidence  ... veille sur l'actualité du vélo  \\\n",
       "0            Nouméa  ...                            NaN   \n",
       "1            Nouméa  ...                            NaN   \n",
       "2            Nouméa  ...                            NaN   \n",
       "3            Nouméa  ...                            NaN   \n",
       "4               NaN  ...                            NaN   \n",
       "\n",
       "   amélioration de la réglementation  atelier de réparation  \\\n",
       "0                                NaN                    NaN   \n",
       "1                                NaN                    NaN   \n",
       "2                                NaN                    NaN   \n",
       "3                                NaN                    NaN   \n",
       "4                                NaN                    NaN   \n",
       "\n",
       "    cartographie collaborative  autre, précisez.2  Unnamed: 43 Unnamed: 44  \\\n",
       "0                          NaN                NaN          NaN         NaN   \n",
       "1                          NaN                NaN          NaN         NaN   \n",
       "2                          NaN                NaN          NaN         NaN   \n",
       "3                          NaN                NaN          NaN         NaN   \n",
       "4                          NaN                NaN          NaN         NaN   \n",
       "\n",
       "                                        Vos attentes  date_adhesion  \\\n",
       "0                                                NaN     2014-03-21   \n",
       "1                                                NaN     2014-03-21   \n",
       "2  Voies protégées. Vélos électriques à prix rais...     2014-03-29   \n",
       "3                                                NaN     2014-03-29   \n",
       "4                                                NaN     2014-03-29   \n",
       "\n",
       "   montant_adhesion  \n",
       "0              2000  \n",
       "1              2000  \n",
       "2              2000  \n",
       "3              2000  \n",
       "4              2000  \n",
       "\n",
       "[5 rows x 48 columns]"
      ]
     },
     "execution_count": 331,
     "metadata": {},
     "output_type": "execute_result"
    }
   ],
   "source": [
    "data.loc[data['nb Adhérents'] > 1, \"montant_adhesion\"] = '4000'\n",
    "data.loc[data['nb Adhérents'] == 1, \"montant_adhesion\"] = '2000'\n",
    "\n",
    "data.head()"
   ]
  },
  {
   "cell_type": "code",
   "execution_count": 332,
   "metadata": {},
   "outputs": [
    {
     "data": {},
     "metadata": {},
     "output_type": "display_data"
    },
    {
     "data": {
      "application/vnd.holoviews_exec.v0+json": "",
      "text/html": [
       "<div id='8534'>\n",
       "\n",
       "\n",
       "\n",
       "\n",
       "\n",
       "  <div class=\"bk-root\" id=\"ffd4d368-7858-41dc-9397-dc3f1bb1f62c\" data-root-id=\"8534\"></div>\n",
       "</div>\n",
       "<script type=\"application/javascript\">(function(root) {\n",
       "  function embed_document(root) {\n",
       "  var docs_json = {\"3190759a-af5b-47fa-b498-c019bcb7469f\":{\"roots\":{\"references\":[{\"attributes\":{\"end\":2020,\"format\":\"0[.]00\",\"margin\":[5,10,5,10],\"start\":2014,\"value\":2014},\"id\":\"8534\",\"type\":\"Slider\"},{\"attributes\":{\"client_comm_id\":\"0d7eb939fecd4063a33c9600b8a40bd2\",\"comm_id\":\"1f4f1000d4234ea3a4db6ea7233559b7\",\"plot_id\":\"8534\"},\"id\":\"8535\",\"type\":\"panel.models.comm_manager.CommManager\"}],\"root_ids\":[\"8534\",\"8535\"]},\"title\":\"Bokeh Application\",\"version\":\"2.0.1\"}};\n",
       "  var render_items = [{\"docid\":\"3190759a-af5b-47fa-b498-c019bcb7469f\",\"root_ids\":[\"8534\"],\"roots\":{\"8534\":\"ffd4d368-7858-41dc-9397-dc3f1bb1f62c\"}}];\n",
       "  root.Bokeh.embed.embed_items_notebook(docs_json, render_items);\n",
       "  }\n",
       "if (root.Bokeh !== undefined) {\n",
       "    embed_document(root);\n",
       "  } else {\n",
       "    var attempts = 0;\n",
       "    var timer = setInterval(function(root) {\n",
       "      if (root.Bokeh !== undefined) {\n",
       "        clearInterval(timer);\n",
       "        embed_document(root);\n",
       "      } else if (document.readyState == \"complete\") {\n",
       "        attempts++;\n",
       "        if (attempts > 100) {\n",
       "          clearInterval(timer);\n",
       "          console.log(\"Bokeh: ERROR: Unable to run BokehJS code because BokehJS library is missing\");\n",
       "        }\n",
       "      }\n",
       "    }, 10, root)\n",
       "  }\n",
       "})(window);</script>"
      ],
      "text/plain": [
       "IntSlider(end=2020, start=2014, value=2014)"
      ]
     },
     "execution_count": 332,
     "metadata": {
      "application/vnd.holoviews_exec.v0+json": {
       "id": "8534"
      }
     },
     "output_type": "execute_result"
    }
   ],
   "source": [
    "row_slider = pn.widgets.IntSlider(value=data[\"date_adhesion\"].min().year, start=data[\"date_adhesion\"].min().year,end=data[\"date_adhesion\"].max().year )\n",
    "row_slider"
   ]
  },
  {
   "cell_type": "code",
   "execution_count": 333,
   "metadata": {},
   "outputs": [],
   "source": [
    "@pn.depends(row_slider.param.value)\n",
    "def select_date(row=data[\"date_adhesion\"].min().year):\n",
    "    return data.loc[data[\"date_adhesion\"].dt.year == row]\n",
    "\n",
    "\n",
    "app = pn.Row(row_slider, select_date)"
   ]
  },
  {
   "cell_type": "code",
   "execution_count": 334,
   "metadata": {},
   "outputs": [],
   "source": [
    "def getDfYear(year):\n",
    "    filter = data[\"date_adhesion\"].dt.year == year\n",
    "    df_year = data[filter]\n",
    "    return df_year\n",
    "\n",
    "def bar_adherent(df):\n",
    "    bar = df.groupby(['d']).hvplot.bar(y=\"\")\n",
    "    return bar\n",
    "    \n",
    "d_2020 = pd.concat([getDfYear(2019),  getDfYear(2020)])"
   ]
  },
  {
   "cell_type": "code",
   "execution_count": null,
   "metadata": {},
   "outputs": [],
   "source": []
  },
  {
   "cell_type": "code",
   "execution_count": null,
   "metadata": {},
   "outputs": [],
   "source": []
  },
  {
   "cell_type": "code",
   "execution_count": null,
   "metadata": {},
   "outputs": [],
   "source": []
  },
  {
   "cell_type": "code",
   "execution_count": 335,
   "metadata": {},
   "outputs": [],
   "source": [
    "famille_2020 = d_2020.loc[(d_2020[\"famille\"]==1)]\n",
    "individuel_2020 = d_2020.loc[(d_2020[\"indiv\"]==1)]\n",
    "adhesion_indiv = len(individuel_2020)\n",
    "adhesion_famille = len(famille_2020)\n",
    "montant_tresor = adhesion_famille * 4000 + adhesion_indiv *2000\n",
    "nbAdherent_famille = famille_2020[\"nb Adhérents\"].sum()\n",
    "nbAdherent = len(individuel_2020) + nbAdherent_famille\n",
    "nb_adhesion = adhesion_famille + adhesion_indiv"
   ]
  },
  {
   "cell_type": "code",
   "execution_count": 336,
   "metadata": {},
   "outputs": [],
   "source": [
    "rapport_fammille_indiv = adhesion_famille/nb_adhesion"
   ]
  },
  {
   "cell_type": "code",
   "execution_count": 337,
   "metadata": {},
   "outputs": [
    {
     "data": {
      "text/plain": [
       "0.3382352941176471"
      ]
     },
     "execution_count": 337,
     "metadata": {},
     "output_type": "execute_result"
    }
   ],
   "source": [
    "rapport_fammille_indiv"
   ]
  },
  {
   "cell_type": "code",
   "execution_count": 338,
   "metadata": {},
   "outputs": [
    {
     "data": {
      "text/plain": [
       "75.0"
      ]
     },
     "execution_count": 338,
     "metadata": {},
     "output_type": "execute_result"
    }
   ],
   "source": [
    "nbAdherent_famille"
   ]
  },
  {
   "cell_type": "code",
   "execution_count": 339,
   "metadata": {},
   "outputs": [
    {
     "data": {
      "text/plain": [
       "120.0"
      ]
     },
     "execution_count": 339,
     "metadata": {},
     "output_type": "execute_result"
    }
   ],
   "source": [
    "nbAdherent"
   ]
  },
  {
   "cell_type": "markdown",
   "metadata": {},
   "source": [
    "# Création du modèle"
   ]
  },
  {
   "cell_type": "markdown",
   "metadata": {},
   "source": [
    "## Créer la typologie des familles"
   ]
  },
  {
   "cell_type": "code",
   "execution_count": 340,
   "metadata": {},
   "outputs": [],
   "source": [
    "famille_2020_sorted = famille_2020.sort_values(by=[\"nb Adhérents\"])\n",
    "df_type_famille = famille_2020_sorted.groupby(['nb Adhérents'])\n",
    "bar = df_type_famille.size().hvplot.bar().opts(title=\"Nombre de famille selon le nombre d'adhérent\",ylabel=\"nb famille\")\n",
    "moyenne =famille_2020[\"nb Adhérents\"].mean()\n",
    "\n",
    "moyenne_line = hv.VLine(moyenne-1)\n",
    "layout = bar * moyenne_line\n"
   ]
  },
  {
   "cell_type": "code",
   "execution_count": 341,
   "metadata": {},
   "outputs": [
    {
     "data": {},
     "metadata": {},
     "output_type": "display_data"
    },
    {
     "data": {
      "application/vnd.holoviews_exec.v0+json": "",
      "text/html": [
       "<div id='8536'>\n",
       "\n",
       "\n",
       "\n",
       "\n",
       "\n",
       "  <div class=\"bk-root\" id=\"8e07bbce-4934-4435-bdb5-bf9341bf2c42\" data-root-id=\"8536\"></div>\n",
       "</div>\n",
       "<script type=\"application/javascript\">(function(root) {\n",
       "  function embed_document(root) {\n",
       "  var docs_json = {\"375e51cc-f62f-4371-8b0c-23b2aa807024\":{\"roots\":{\"references\":[{\"attributes\":{\"fill_alpha\":{\"value\":0.2},\"fill_color\":{\"value\":\"#1f77b3\"},\"line_alpha\":{\"value\":0.2},\"top\":{\"field\":\"A_0\"},\"width\":{\"value\":0.8},\"x\":{\"field\":\"nb_Adh\\u00e9rents\"}},\"id\":\"8579\",\"type\":\"VBar\"},{\"attributes\":{\"align\":null,\"below\":[{\"id\":\"8550\"}],\"center\":[{\"id\":\"8552\"},{\"id\":\"8556\"}],\"left\":[{\"id\":\"8553\"}],\"margin\":null,\"min_border_bottom\":10,\"min_border_left\":10,\"min_border_right\":10,\"min_border_top\":10,\"plot_height\":300,\"plot_width\":700,\"renderers\":[{\"id\":\"8580\"},{\"id\":\"8592\"}],\"right\":[{\"id\":\"8588\"}],\"sizing_mode\":\"fixed\",\"title\":{\"id\":\"8542\"},\"toolbar\":{\"id\":\"8563\"},\"x_range\":{\"id\":\"8538\"},\"x_scale\":{\"id\":\"8546\"},\"y_range\":{\"id\":\"8539\"},\"y_scale\":{\"id\":\"8548\"}},\"id\":\"8541\",\"subtype\":\"Figure\",\"type\":\"Plot\"},{\"attributes\":{\"source\":{\"id\":\"8574\"}},\"id\":\"8581\",\"type\":\"CDSView\"},{\"attributes\":{},\"id\":\"8561\",\"type\":\"ResetTool\"},{\"attributes\":{},\"id\":\"8572\",\"type\":\"BasicTickFormatter\"},{\"attributes\":{},\"id\":\"8546\",\"type\":\"CategoricalScale\"},{\"attributes\":{\"bottom_units\":\"screen\",\"fill_alpha\":0.5,\"fill_color\":\"lightgrey\",\"left_units\":\"screen\",\"level\":\"overlay\",\"line_alpha\":1.0,\"line_color\":\"black\",\"line_dash\":[4,4],\"line_width\":2,\"render_mode\":\"css\",\"right_units\":\"screen\",\"top_units\":\"screen\"},\"id\":\"8562\",\"type\":\"BoxAnnotation\"},{\"attributes\":{\"fill_alpha\":{\"value\":0.1},\"fill_color\":{\"value\":\"#1f77b3\"},\"line_alpha\":{\"value\":0.1},\"top\":{\"field\":\"A_0\"},\"width\":{\"value\":0.8},\"x\":{\"field\":\"nb_Adh\\u00e9rents\"}},\"id\":\"8578\",\"type\":\"VBar\"},{\"attributes\":{\"margin\":[5,5,5,5],\"name\":\"HSpacer28850\",\"sizing_mode\":\"stretch_width\"},\"id\":\"8537\",\"type\":\"Spacer\"},{\"attributes\":{},\"id\":\"8551\",\"type\":\"CategoricalTicker\"},{\"attributes\":{\"factors\":[\"2\",\"3\",\"4\",\"5\",\"6\"],\"tags\":[[[\"nb Adh\\u00e9rents\",\"nb Adh\\u00e9rents\",null]]]},\"id\":\"8538\",\"type\":\"FactorRange\"},{\"attributes\":{},\"id\":\"8575\",\"type\":\"Selection\"},{\"attributes\":{\"data_source\":{\"id\":\"8574\"},\"glyph\":{\"id\":\"8577\"},\"hover_glyph\":null,\"muted_glyph\":{\"id\":\"8579\"},\"nonselection_glyph\":{\"id\":\"8578\"},\"selection_glyph\":null,\"view\":{\"id\":\"8581\"}},\"id\":\"8580\",\"type\":\"GlyphRenderer\"},{\"attributes\":{\"callback\":null,\"renderers\":[{\"id\":\"8580\"}],\"tags\":[\"hv_created\"],\"tooltips\":[[\"nb Adh\\u00e9rents\",\"@{nb_Adh\\u00e9rents}\"],[\"0\",\"@{A_0}\"]]},\"id\":\"8540\",\"type\":\"HoverTool\"},{\"attributes\":{\"dimension\":\"height\",\"level\":\"glyph\",\"line_color\":\"red\",\"line_width\":4,\"location\":2.260869565217391},\"id\":\"8592\",\"type\":\"Span\"},{\"attributes\":{\"label\":{\"value\":\"0\"},\"renderers\":[{\"id\":\"8580\"}]},\"id\":\"8589\",\"type\":\"LegendItem\"},{\"attributes\":{\"axis\":{\"id\":\"8553\"},\"dimension\":1,\"grid_line_color\":null,\"ticker\":null},\"id\":\"8556\",\"type\":\"Grid\"},{\"attributes\":{},\"id\":\"8554\",\"type\":\"BasicTicker\"},{\"attributes\":{\"overlay\":{\"id\":\"8562\"}},\"id\":\"8560\",\"type\":\"BoxZoomTool\"},{\"attributes\":{\"margin\":[5,5,5,5],\"name\":\"HSpacer28851\",\"sizing_mode\":\"stretch_width\"},\"id\":\"8657\",\"type\":\"Spacer\"},{\"attributes\":{\"active_drag\":\"auto\",\"active_inspect\":\"auto\",\"active_multi\":null,\"active_scroll\":\"auto\",\"active_tap\":\"auto\",\"tools\":[{\"id\":\"8540\"},{\"id\":\"8557\"},{\"id\":\"8558\"},{\"id\":\"8559\"},{\"id\":\"8560\"},{\"id\":\"8561\"}]},\"id\":\"8563\",\"type\":\"Toolbar\"},{\"attributes\":{},\"id\":\"8558\",\"type\":\"PanTool\"},{\"attributes\":{\"data\":{\"A_0\":[10,3,6,2,2],\"nb_Adh\\u00e9rents\":[\"2\",\"3\",\"4\",\"5\",\"6\"]},\"selected\":{\"id\":\"8575\"},\"selection_policy\":{\"id\":\"8599\"}},\"id\":\"8574\",\"type\":\"ColumnDataSource\"},{\"attributes\":{\"click_policy\":\"mute\",\"items\":[{\"id\":\"8589\"}],\"location\":[0,0]},\"id\":\"8588\",\"type\":\"Legend\"},{\"attributes\":{},\"id\":\"8570\",\"type\":\"CategoricalTickFormatter\"},{\"attributes\":{\"fill_color\":{\"value\":\"#1f77b3\"},\"top\":{\"field\":\"A_0\"},\"width\":{\"value\":0.8},\"x\":{\"field\":\"nb_Adh\\u00e9rents\"}},\"id\":\"8577\",\"type\":\"VBar\"},{\"attributes\":{},\"id\":\"8599\",\"type\":\"UnionRenderers\"},{\"attributes\":{\"end\":10.8,\"reset_end\":10.8,\"reset_start\":0.0,\"tags\":[[[\"0\",\"0\",null]]]},\"id\":\"8539\",\"type\":\"Range1d\"},{\"attributes\":{\"children\":[{\"id\":\"8537\"},{\"id\":\"8541\"},{\"id\":\"8657\"}],\"margin\":[0,0,0,0],\"name\":\"Row28846\",\"tags\":[\"embedded\"]},\"id\":\"8536\",\"type\":\"Row\"},{\"attributes\":{\"axis_label\":\"nb famille\",\"bounds\":\"auto\",\"formatter\":{\"id\":\"8572\"},\"major_label_orientation\":\"horizontal\",\"ticker\":{\"id\":\"8554\"}},\"id\":\"8553\",\"type\":\"LinearAxis\"},{\"attributes\":{\"axis\":{\"id\":\"8550\"},\"grid_line_color\":null,\"ticker\":null},\"id\":\"8552\",\"type\":\"Grid\"},{\"attributes\":{\"axis_label\":\"nb Adh\\u00e9rents\",\"bounds\":\"auto\",\"formatter\":{\"id\":\"8570\"},\"major_label_orientation\":\"horizontal\",\"ticker\":{\"id\":\"8551\"}},\"id\":\"8550\",\"type\":\"CategoricalAxis\"},{\"attributes\":{},\"id\":\"8559\",\"type\":\"WheelZoomTool\"},{\"attributes\":{},\"id\":\"8557\",\"type\":\"SaveTool\"},{\"attributes\":{\"text\":\"Nombre de famille selon le nombre d'adh\\u00e9rent\",\"text_color\":{\"value\":\"black\"},\"text_font_size\":{\"value\":\"12pt\"}},\"id\":\"8542\",\"type\":\"Title\"},{\"attributes\":{},\"id\":\"8548\",\"type\":\"LinearScale\"}],\"root_ids\":[\"8536\"]},\"title\":\"Bokeh Application\",\"version\":\"2.0.1\"}};\n",
       "  var render_items = [{\"docid\":\"375e51cc-f62f-4371-8b0c-23b2aa807024\",\"root_ids\":[\"8536\"],\"roots\":{\"8536\":\"8e07bbce-4934-4435-bdb5-bf9341bf2c42\"}}];\n",
       "  root.Bokeh.embed.embed_items_notebook(docs_json, render_items);\n",
       "  }\n",
       "if (root.Bokeh !== undefined) {\n",
       "    embed_document(root);\n",
       "  } else {\n",
       "    var attempts = 0;\n",
       "    var timer = setInterval(function(root) {\n",
       "      if (root.Bokeh !== undefined) {\n",
       "        clearInterval(timer);\n",
       "        embed_document(root);\n",
       "      } else if (document.readyState == \"complete\") {\n",
       "        attempts++;\n",
       "        if (attempts > 100) {\n",
       "          clearInterval(timer);\n",
       "          console.log(\"Bokeh: ERROR: Unable to run BokehJS code because BokehJS library is missing\");\n",
       "        }\n",
       "      }\n",
       "    }, 10, root)\n",
       "  }\n",
       "})(window);</script>"
      ],
      "text/plain": [
       ":Overlay\n",
       "   .Bars.A_0 :Bars   [nb Adhérents]   (0)\n",
       "   .VLine.I  :VLine   [x,y]"
      ]
     },
     "execution_count": 341,
     "metadata": {
      "application/vnd.holoviews_exec.v0+json": {
       "id": "8536"
      }
     },
     "output_type": "execute_result"
    }
   ],
   "source": [
    "layout.opts(opts.VLine(color='red', line_width=4))"
   ]
  },
  {
   "cell_type": "code",
   "execution_count": 390,
   "metadata": {},
   "outputs": [],
   "source": []
  },
  {
   "cell_type": "markdown",
   "metadata": {},
   "source": [
    "### défintion des variables"
   ]
  },
  {
   "cell_type": "code",
   "execution_count": 427,
   "metadata": {},
   "outputs": [],
   "source": [
    "rapport_fammille_indiv = 0.3\n",
    "montant_adhésion_famille = 3000"
   ]
  },
  {
   "cell_type": "code",
   "execution_count": 428,
   "metadata": {},
   "outputs": [],
   "source": [
    "dfm = pd.DataFrame({'nb_adherents': range(1,200)})"
   ]
  },
  {
   "cell_type": "code",
   "execution_count": 429,
   "metadata": {},
   "outputs": [],
   "source": [
    "dfm['tresor_4000'] = dfm['nb_adherents']*4000"
   ]
  },
  {
   "cell_type": "code",
   "execution_count": 430,
   "metadata": {},
   "outputs": [],
   "source": [
    "dfm['tresor_3000'] = dfm['nb_adherents']*3000"
   ]
  },
  {
   "cell_type": "code",
   "execution_count": 431,
   "metadata": {},
   "outputs": [],
   "source": [
    "dfm['tresor_2000'] = dfm['nb_adherents']*2000"
   ]
  },
  {
   "cell_type": "code",
   "execution_count": 432,
   "metadata": {},
   "outputs": [],
   "source": [
    "dfm[\"nb_adhesion\"] =  dfm['nb_adherents'] * moyenne"
   ]
  },
  {
   "cell_type": "code",
   "execution_count": 433,
   "metadata": {},
   "outputs": [],
   "source": [
    "dfm[\"nb_adhesion_calc\"] = dfm[\"nb_adhesion\"] * rapport_fammille_indiv"
   ]
  },
  {
   "cell_type": "code",
   "execution_count": 434,
   "metadata": {},
   "outputs": [],
   "source": [
    "dfm[\"tresor_calc_ratio_famille\"] = round(((dfm['nb_adherents'] * rapport_fammille_indiv )*montant_adhésion_famille)+ (dfm['nb_adherents'] *(1- rapport_fammille_indiv)* 2000 ))"
   ]
  },
  {
   "cell_type": "code",
   "execution_count": 455,
   "metadata": {},
   "outputs": [],
   "source": [
    "row = dfm.iloc[nb_adhesion]"
   ]
  },
  {
   "cell_type": "code",
   "execution_count": null,
   "metadata": {},
   "outputs": [],
   "source": []
  },
  {
   "cell_type": "code",
   "execution_count": 435,
   "metadata": {},
   "outputs": [],
   "source": [
    "\n",
    "def formatter(value):\n",
    "    return str(value) "
   ]
  },
  {
   "cell_type": "code",
   "execution_count": 436,
   "metadata": {},
   "outputs": [
    {
     "data": {
      "text/plain": [
       "75.0"
      ]
     },
     "execution_count": 436,
     "metadata": {},
     "output_type": "execute_result"
    }
   ],
   "source": [
    "nbAdherent_famille\n"
   ]
  },
  {
   "cell_type": "code",
   "execution_count": 459,
   "metadata": {},
   "outputs": [
    {
     "data": {},
     "metadata": {},
     "output_type": "display_data"
    },
    {
     "data": {
      "application/vnd.holoviews_exec.v0+json": "",
      "text/html": [
       "<div id='14563'>\n",
       "\n",
       "\n",
       "\n",
       "\n",
       "\n",
       "  <div class=\"bk-root\" id=\"3d94224c-87cd-405e-8a1b-97789db600a0\" data-root-id=\"14563\"></div>\n",
       "</div>\n",
       "<script type=\"application/javascript\">(function(root) {\n",
       "  function embed_document(root) {\n",
       "  var docs_json = {\"77bdd2d9-b8a5-4294-9d4d-ff3f9288b0eb\":{\"roots\":{\"references\":[{\"attributes\":{},\"id\":\"14680\",\"type\":\"UnionRenderers\"},{\"attributes\":{\"bottom_units\":\"screen\",\"fill_alpha\":0.5,\"fill_color\":\"lightgrey\",\"left_units\":\"screen\",\"level\":\"overlay\",\"line_alpha\":1.0,\"line_color\":\"black\",\"line_dash\":[4,4],\"line_width\":2,\"render_mode\":\"css\",\"right_units\":\"screen\",\"top_units\":\"screen\"},\"id\":\"14593\",\"type\":\"BoxAnnotation\"},{\"attributes\":{\"callback\":null,\"renderers\":[{\"id\":\"14619\"}],\"tags\":[\"hv_created\"],\"tooltips\":[[\"nb_adherents\",\"@{nb_adherents}\"],[\"tresor_4000\",\"@{tresor_4000}\"]]},\"id\":\"14567\",\"type\":\"HoverTool\"},{\"attributes\":{\"callback\":null,\"renderers\":[{\"id\":\"14627\"}],\"tags\":[\"hv_created\"],\"tooltips\":[[\"nb_adherents\",\"@{nb_adherents}\"],[\"tresor_3000\",\"@{tresor_3000}\"]]},\"id\":\"14568\",\"type\":\"HoverTool\"},{\"attributes\":{\"line_alpha\":0.2,\"line_color\":\"#d62628\",\"line_width\":2,\"x\":{\"field\":\"nb_adherents\"},\"y\":{\"field\":\"tresor_calc_ratio_famille\"}},\"id\":\"14642\",\"type\":\"Line\"},{\"attributes\":{\"callback\":null,\"renderers\":[{\"id\":\"14643\"}],\"tags\":[\"hv_created\"],\"tooltips\":[[\"nb_adherents\",\"@{nb_adherents}\"],[\"tresor_calc_ratio_famille\",\"@{tresor_calc_ratio_famille}\"]]},\"id\":\"14570\",\"type\":\"HoverTool\"},{\"attributes\":{\"source\":{\"id\":\"14637\"}},\"id\":\"14644\",\"type\":\"CDSView\"},{\"attributes\":{},\"id\":\"14649\",\"type\":\"Selection\"},{\"attributes\":{\"margin\":[5,5,5,5],\"name\":\"HSpacer60458\",\"sizing_mode\":\"stretch_width\"},\"id\":\"14827\",\"type\":\"Spacer\"},{\"attributes\":{\"fill_alpha\":{\"value\":0.2},\"fill_color\":{\"value\":\"grey\"},\"line_alpha\":{\"value\":0.2},\"line_color\":{\"value\":\"grey\"},\"size\":{\"units\":\"screen\",\"value\":8},\"x\":{\"field\":\"x\"},\"y\":{\"field\":\"y\"}},\"id\":\"14669\",\"type\":\"Scatter\"},{\"attributes\":{\"data_source\":{\"id\":\"14629\"},\"glyph\":{\"id\":\"14632\"},\"hover_glyph\":null,\"muted_glyph\":{\"id\":\"14634\"},\"nonselection_glyph\":{\"id\":\"14633\"},\"selection_glyph\":null,\"view\":{\"id\":\"14636\"}},\"id\":\"14635\",\"type\":\"GlyphRenderer\"},{\"attributes\":{},\"id\":\"14657\",\"type\":\"Selection\"},{\"attributes\":{},\"id\":\"14688\",\"type\":\"UnionRenderers\"},{\"attributes\":{\"end\":500000,\"reset_end\":500000,\"reset_start\":0,\"tags\":[[[\"tresor_4000\",\"tresor_4000\",null]]]},\"id\":\"14566\",\"type\":\"Range1d\"},{\"attributes\":{},\"id\":\"14630\",\"type\":\"Selection\"},{\"attributes\":{\"fill_color\":{\"value\":\"grey\"},\"line_color\":{\"value\":\"grey\"},\"size\":{\"units\":\"screen\",\"value\":8},\"x\":{\"field\":\"x\"},\"y\":{\"field\":\"y\"}},\"id\":\"14667\",\"type\":\"Scatter\"},{\"attributes\":{\"data\":{\"x\":[68],\"y\":[182000]},\"selected\":{\"id\":\"14665\"},\"selection_policy\":{\"id\":\"14692\"}},\"id\":\"14664\",\"type\":\"ColumnDataSource\"},{\"attributes\":{\"source\":{\"id\":\"14664\"}},\"id\":\"14671\",\"type\":\"CDSView\"},{\"attributes\":{\"line_alpha\":0.2,\"line_color\":\"#2ba02b\",\"line_width\":2,\"x\":{\"field\":\"nb_adherents\"},\"y\":{\"field\":\"tresor_2000\"}},\"id\":\"14634\",\"type\":\"Line\"},{\"attributes\":{\"fill_alpha\":{\"value\":0.2},\"fill_color\":{\"value\":\"green\"},\"line_alpha\":{\"value\":0.2},\"line_color\":{\"value\":\"green\"},\"size\":{\"units\":\"screen\",\"value\":8},\"x\":{\"field\":\"x\"},\"y\":{\"field\":\"y\"}},\"id\":\"14661\",\"type\":\"Scatter\"},{\"attributes\":{},\"id\":\"14665\",\"type\":\"Selection\"},{\"attributes\":{\"line_color\":\"#1f77b3\",\"line_width\":2,\"x\":{\"field\":\"nb_adherents\"},\"y\":{\"field\":\"tresor_4000\"}},\"id\":\"14616\",\"type\":\"Line\"},{\"attributes\":{\"fill_color\":{\"value\":\"green\"},\"line_color\":{\"value\":\"green\"},\"size\":{\"units\":\"screen\",\"value\":8},\"x\":{\"field\":\"x\"},\"y\":{\"field\":\"y\"}},\"id\":\"14659\",\"type\":\"Scatter\"},{\"attributes\":{\"line_alpha\":0.1,\"line_color\":\"#d62628\",\"line_width\":2,\"x\":{\"field\":\"nb_adherents\"},\"y\":{\"field\":\"tresor_calc_ratio_famille\"}},\"id\":\"14641\",\"type\":\"Line\"},{\"attributes\":{},\"id\":\"14692\",\"type\":\"UnionRenderers\"},{\"attributes\":{\"data\":{\"nb_adherents\":[1,2,3,4,5,6,7,8,9,10,11,12,13,14,15,16,17,18,19,20,21,22,23,24,25,26,27,28,29,30,31,32,33,34,35,36,37,38,39,40,41,42,43,44,45,46,47,48,49,50,51,52,53,54,55,56,57,58,59,60,61,62,63,64,65,66,67,68,69,70,71,72,73,74,75,76,77,78,79,80,81,82,83,84,85,86,87,88,89,90,91,92,93,94,95,96,97,98,99,100,101,102,103,104,105,106,107,108,109,110,111,112,113,114,115,116,117,118,119,120,121,122,123,124,125,126,127,128,129,130,131,132,133,134,135,136,137,138,139,140,141,142,143,144,145,146,147,148,149,150,151,152,153,154,155,156,157,158,159,160,161,162,163,164,165,166,167,168,169,170,171,172,173,174,175,176,177,178,179,180,181,182,183,184,185,186,187,188,189,190,191,192,193,194,195,196,197,198,199],\"tresor_3000\":[3000,6000,9000,12000,15000,18000,21000,24000,27000,30000,33000,36000,39000,42000,45000,48000,51000,54000,57000,60000,63000,66000,69000,72000,75000,78000,81000,84000,87000,90000,93000,96000,99000,102000,105000,108000,111000,114000,117000,120000,123000,126000,129000,132000,135000,138000,141000,144000,147000,150000,153000,156000,159000,162000,165000,168000,171000,174000,177000,180000,183000,186000,189000,192000,195000,198000,201000,204000,207000,210000,213000,216000,219000,222000,225000,228000,231000,234000,237000,240000,243000,246000,249000,252000,255000,258000,261000,264000,267000,270000,273000,276000,279000,282000,285000,288000,291000,294000,297000,300000,303000,306000,309000,312000,315000,318000,321000,324000,327000,330000,333000,336000,339000,342000,345000,348000,351000,354000,357000,360000,363000,366000,369000,372000,375000,378000,381000,384000,387000,390000,393000,396000,399000,402000,405000,408000,411000,414000,417000,420000,423000,426000,429000,432000,435000,438000,441000,444000,447000,450000,453000,456000,459000,462000,465000,468000,471000,474000,477000,480000,483000,486000,489000,492000,495000,498000,501000,504000,507000,510000,513000,516000,519000,522000,525000,528000,531000,534000,537000,540000,543000,546000,549000,552000,555000,558000,561000,564000,567000,570000,573000,576000,579000,582000,585000,588000,591000,594000,597000]},\"selected\":{\"id\":\"14622\"},\"selection_policy\":{\"id\":\"14682\"}},\"id\":\"14621\",\"type\":\"ColumnDataSource\"},{\"attributes\":{\"line_alpha\":0.1,\"line_color\":\"#1f77b3\",\"line_width\":2,\"x\":{\"field\":\"nb_adherents\"},\"y\":{\"field\":\"tresor_4000\"}},\"id\":\"14617\",\"type\":\"Line\"},{\"attributes\":{},\"id\":\"14622\",\"type\":\"Selection\"},{\"attributes\":{\"data_source\":{\"id\":\"14637\"},\"glyph\":{\"id\":\"14640\"},\"hover_glyph\":null,\"muted_glyph\":{\"id\":\"14642\"},\"nonselection_glyph\":{\"id\":\"14641\"},\"selection_glyph\":null,\"view\":{\"id\":\"14644\"}},\"id\":\"14643\",\"type\":\"GlyphRenderer\"},{\"attributes\":{\"data_source\":{\"id\":\"14664\"},\"glyph\":{\"id\":\"14667\"},\"hover_glyph\":null,\"muted_glyph\":{\"id\":\"14669\"},\"nonselection_glyph\":{\"id\":\"14668\"},\"selection_glyph\":null,\"view\":{\"id\":\"14671\"}},\"id\":\"14670\",\"type\":\"GlyphRenderer\"},{\"attributes\":{\"line_color\":\"#d62628\",\"line_width\":2,\"x\":{\"field\":\"nb_adherents\"},\"y\":{\"field\":\"tresor_calc_ratio_famille\"}},\"id\":\"14640\",\"type\":\"Line\"},{\"attributes\":{},\"id\":\"14690\",\"type\":\"UnionRenderers\"},{\"attributes\":{\"text\":\"\",\"text_color\":{\"value\":\"black\"},\"text_font_size\":{\"value\":\"12pt\"}},\"id\":\"14572\",\"type\":\"Title\"},{\"attributes\":{\"dimension\":\"height\",\"level\":\"glyph\",\"line_alpha\":0.5,\"line_color\":\"grey\",\"line_dash\":[6],\"line_width\":2,\"location\":120.0},\"id\":\"14647\",\"type\":\"Span\"},{\"attributes\":{\"data\":{\"x\":[23],\"y\":[92000]},\"selected\":{\"id\":\"14649\"},\"selection_policy\":{\"id\":\"14688\"}},\"id\":\"14648\",\"type\":\"ColumnDataSource\"},{\"attributes\":{\"data_source\":{\"id\":\"14656\"},\"glyph\":{\"id\":\"14659\"},\"hover_glyph\":null,\"muted_glyph\":{\"id\":\"14661\"},\"nonselection_glyph\":{\"id\":\"14660\"},\"selection_glyph\":null,\"view\":{\"id\":\"14663\"}},\"id\":\"14662\",\"type\":\"GlyphRenderer\"},{\"attributes\":{\"data\":{\"nb_adherents\":[1,2,3,4,5,6,7,8,9,10,11,12,13,14,15,16,17,18,19,20,21,22,23,24,25,26,27,28,29,30,31,32,33,34,35,36,37,38,39,40,41,42,43,44,45,46,47,48,49,50,51,52,53,54,55,56,57,58,59,60,61,62,63,64,65,66,67,68,69,70,71,72,73,74,75,76,77,78,79,80,81,82,83,84,85,86,87,88,89,90,91,92,93,94,95,96,97,98,99,100,101,102,103,104,105,106,107,108,109,110,111,112,113,114,115,116,117,118,119,120,121,122,123,124,125,126,127,128,129,130,131,132,133,134,135,136,137,138,139,140,141,142,143,144,145,146,147,148,149,150,151,152,153,154,155,156,157,158,159,160,161,162,163,164,165,166,167,168,169,170,171,172,173,174,175,176,177,178,179,180,181,182,183,184,185,186,187,188,189,190,191,192,193,194,195,196,197,198,199],\"tresor_4000\":[4000,8000,12000,16000,20000,24000,28000,32000,36000,40000,44000,48000,52000,56000,60000,64000,68000,72000,76000,80000,84000,88000,92000,96000,100000,104000,108000,112000,116000,120000,124000,128000,132000,136000,140000,144000,148000,152000,156000,160000,164000,168000,172000,176000,180000,184000,188000,192000,196000,200000,204000,208000,212000,216000,220000,224000,228000,232000,236000,240000,244000,248000,252000,256000,260000,264000,268000,272000,276000,280000,284000,288000,292000,296000,300000,304000,308000,312000,316000,320000,324000,328000,332000,336000,340000,344000,348000,352000,356000,360000,364000,368000,372000,376000,380000,384000,388000,392000,396000,400000,404000,408000,412000,416000,420000,424000,428000,432000,436000,440000,444000,448000,452000,456000,460000,464000,468000,472000,476000,480000,484000,488000,492000,496000,500000,504000,508000,512000,516000,520000,524000,528000,532000,536000,540000,544000,548000,552000,556000,560000,564000,568000,572000,576000,580000,584000,588000,592000,596000,600000,604000,608000,612000,616000,620000,624000,628000,632000,636000,640000,644000,648000,652000,656000,660000,664000,668000,672000,676000,680000,684000,688000,692000,696000,700000,704000,708000,712000,716000,720000,724000,728000,732000,736000,740000,744000,748000,752000,756000,760000,764000,768000,772000,776000,780000,784000,788000,792000,796000]},\"selected\":{\"id\":\"14614\"},\"selection_policy\":{\"id\":\"14680\"}},\"id\":\"14613\",\"type\":\"ColumnDataSource\"},{\"attributes\":{\"data\":{\"nb_adherents\":[1,2,3,4,5,6,7,8,9,10,11,12,13,14,15,16,17,18,19,20,21,22,23,24,25,26,27,28,29,30,31,32,33,34,35,36,37,38,39,40,41,42,43,44,45,46,47,48,49,50,51,52,53,54,55,56,57,58,59,60,61,62,63,64,65,66,67,68,69,70,71,72,73,74,75,76,77,78,79,80,81,82,83,84,85,86,87,88,89,90,91,92,93,94,95,96,97,98,99,100,101,102,103,104,105,106,107,108,109,110,111,112,113,114,115,116,117,118,119,120,121,122,123,124,125,126,127,128,129,130,131,132,133,134,135,136,137,138,139,140,141,142,143,144,145,146,147,148,149,150,151,152,153,154,155,156,157,158,159,160,161,162,163,164,165,166,167,168,169,170,171,172,173,174,175,176,177,178,179,180,181,182,183,184,185,186,187,188,189,190,191,192,193,194,195,196,197,198,199],\"tresor_2000\":[2000,4000,6000,8000,10000,12000,14000,16000,18000,20000,22000,24000,26000,28000,30000,32000,34000,36000,38000,40000,42000,44000,46000,48000,50000,52000,54000,56000,58000,60000,62000,64000,66000,68000,70000,72000,74000,76000,78000,80000,82000,84000,86000,88000,90000,92000,94000,96000,98000,100000,102000,104000,106000,108000,110000,112000,114000,116000,118000,120000,122000,124000,126000,128000,130000,132000,134000,136000,138000,140000,142000,144000,146000,148000,150000,152000,154000,156000,158000,160000,162000,164000,166000,168000,170000,172000,174000,176000,178000,180000,182000,184000,186000,188000,190000,192000,194000,196000,198000,200000,202000,204000,206000,208000,210000,212000,214000,216000,218000,220000,222000,224000,226000,228000,230000,232000,234000,236000,238000,240000,242000,244000,246000,248000,250000,252000,254000,256000,258000,260000,262000,264000,266000,268000,270000,272000,274000,276000,278000,280000,282000,284000,286000,288000,290000,292000,294000,296000,298000,300000,302000,304000,306000,308000,310000,312000,314000,316000,318000,320000,322000,324000,326000,328000,330000,332000,334000,336000,338000,340000,342000,344000,346000,348000,350000,352000,354000,356000,358000,360000,362000,364000,366000,368000,370000,372000,374000,376000,378000,380000,382000,384000,386000,388000,390000,392000,394000,396000,398000]},\"selected\":{\"id\":\"14630\"},\"selection_policy\":{\"id\":\"14684\"}},\"id\":\"14629\",\"type\":\"ColumnDataSource\"},{\"attributes\":{},\"id\":\"14682\",\"type\":\"UnionRenderers\"},{\"attributes\":{\"data\":{\"nb_adherents\":[1,2,3,4,5,6,7,8,9,10,11,12,13,14,15,16,17,18,19,20,21,22,23,24,25,26,27,28,29,30,31,32,33,34,35,36,37,38,39,40,41,42,43,44,45,46,47,48,49,50,51,52,53,54,55,56,57,58,59,60,61,62,63,64,65,66,67,68,69,70,71,72,73,74,75,76,77,78,79,80,81,82,83,84,85,86,87,88,89,90,91,92,93,94,95,96,97,98,99,100,101,102,103,104,105,106,107,108,109,110,111,112,113,114,115,116,117,118,119,120,121,122,123,124,125,126,127,128,129,130,131,132,133,134,135,136,137,138,139,140,141,142,143,144,145,146,147,148,149,150,151,152,153,154,155,156,157,158,159,160,161,162,163,164,165,166,167,168,169,170,171,172,173,174,175,176,177,178,179,180,181,182,183,184,185,186,187,188,189,190,191,192,193,194,195,196,197,198,199],\"tresor_calc_ratio_famille\":{\"__ndarray__\":\"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\",\"dtype\":\"float64\",\"shape\":[199]}},\"selected\":{\"id\":\"14638\"},\"selection_policy\":{\"id\":\"14686\"}},\"id\":\"14637\",\"type\":\"ColumnDataSource\"},{\"attributes\":{\"source\":{\"id\":\"14613\"}},\"id\":\"14620\",\"type\":\"CDSView\"},{\"attributes\":{\"source\":{\"id\":\"14629\"}},\"id\":\"14636\",\"type\":\"CDSView\"},{\"attributes\":{},\"id\":\"14638\",\"type\":\"Selection\"},{\"attributes\":{\"line_alpha\":0.2,\"line_color\":\"#ff7e0e\",\"line_width\":2,\"x\":{\"field\":\"nb_adherents\"},\"y\":{\"field\":\"tresor_3000\"}},\"id\":\"14626\",\"type\":\"Line\"},{\"attributes\":{},\"id\":\"14585\",\"type\":\"BasicTicker\"},{\"attributes\":{\"data_source\":{\"id\":\"14648\"},\"glyph\":{\"id\":\"14651\"},\"hover_glyph\":null,\"muted_glyph\":{\"id\":\"14653\"},\"nonselection_glyph\":{\"id\":\"14652\"},\"selection_glyph\":null,\"view\":{\"id\":\"14655\"}},\"id\":\"14654\",\"type\":\"GlyphRenderer\"},{\"attributes\":{\"level\":\"glyph\",\"line_alpha\":0.3,\"line_color\":\"blue\",\"location\":92000},\"id\":\"14674\",\"type\":\"Span\"},{\"attributes\":{\"source\":{\"id\":\"14621\"}},\"id\":\"14628\",\"type\":\"CDSView\"},{\"attributes\":{\"line_color\":\"#ff7e0e\",\"line_width\":2,\"x\":{\"field\":\"nb_adherents\"},\"y\":{\"field\":\"tresor_3000\"}},\"id\":\"14624\",\"type\":\"Line\"},{\"attributes\":{\"fill_alpha\":{\"value\":0.1},\"fill_color\":{\"value\":\"grey\"},\"line_alpha\":{\"value\":0.1},\"line_color\":{\"value\":\"grey\"},\"size\":{\"units\":\"screen\",\"value\":8},\"x\":{\"field\":\"x\"},\"y\":{\"field\":\"y\"}},\"id\":\"14668\",\"type\":\"Scatter\"},{\"attributes\":{\"align\":null,\"below\":[{\"id\":\"14580\"}],\"center\":[{\"id\":\"14583\"},{\"id\":\"14587\"}],\"left\":[{\"id\":\"14584\"}],\"margin\":null,\"min_border_bottom\":10,\"min_border_left\":10,\"min_border_right\":10,\"min_border_top\":10,\"plot_height\":300,\"plot_width\":700,\"renderers\":[{\"id\":\"14619\"},{\"id\":\"14627\"},{\"id\":\"14635\"},{\"id\":\"14643\"},{\"id\":\"14647\"},{\"id\":\"14654\"},{\"id\":\"14662\"},{\"id\":\"14670\"},{\"id\":\"14674\"}],\"sizing_mode\":\"fixed\",\"title\":{\"id\":\"14572\"},\"toolbar\":{\"id\":\"14594\"},\"x_range\":{\"id\":\"14565\"},\"x_scale\":{\"id\":\"14576\"},\"y_range\":{\"id\":\"14566\"},\"y_scale\":{\"id\":\"14578\"}},\"id\":\"14571\",\"subtype\":\"Figure\",\"type\":\"Plot\"},{\"attributes\":{\"line_color\":\"#2ba02b\",\"line_width\":2,\"x\":{\"field\":\"nb_adherents\"},\"y\":{\"field\":\"tresor_2000\"}},\"id\":\"14632\",\"type\":\"Line\"},{\"attributes\":{\"fill_alpha\":{\"value\":0.1},\"fill_color\":{\"value\":\"green\"},\"line_alpha\":{\"value\":0.1},\"line_color\":{\"value\":\"green\"},\"size\":{\"units\":\"screen\",\"value\":8},\"x\":{\"field\":\"x\"},\"y\":{\"field\":\"y\"}},\"id\":\"14660\",\"type\":\"Scatter\"},{\"attributes\":{\"axis_label\":\"Nb adh\\u00e9sions\",\"bounds\":\"auto\",\"formatter\":{\"id\":\"14605\"},\"major_label_orientation\":\"horizontal\",\"ticker\":{\"id\":\"14581\"}},\"id\":\"14580\",\"type\":\"LinearAxis\"},{\"attributes\":{\"line_alpha\":0.1,\"line_color\":\"#ff7e0e\",\"line_width\":2,\"x\":{\"field\":\"nb_adherents\"},\"y\":{\"field\":\"tresor_3000\"}},\"id\":\"14625\",\"type\":\"Line\"},{\"attributes\":{},\"id\":\"14614\",\"type\":\"Selection\"},{\"attributes\":{},\"id\":\"14576\",\"type\":\"LinearScale\"},{\"attributes\":{\"source\":{\"id\":\"14648\"}},\"id\":\"14655\",\"type\":\"CDSView\"},{\"attributes\":{},\"id\":\"14590\",\"type\":\"WheelZoomTool\"},{\"attributes\":{\"source\":{\"id\":\"14656\"}},\"id\":\"14663\",\"type\":\"CDSView\"},{\"attributes\":{\"fill_alpha\":{\"value\":0.2},\"fill_color\":{\"value\":\"#30a2da\"},\"line_alpha\":{\"value\":0.2},\"line_color\":{\"value\":\"#30a2da\"},\"size\":{\"units\":\"screen\",\"value\":8},\"x\":{\"field\":\"x\"},\"y\":{\"field\":\"y\"}},\"id\":\"14653\",\"type\":\"Scatter\"},{\"attributes\":{},\"id\":\"14589\",\"type\":\"PanTool\"},{\"attributes\":{\"active_drag\":\"auto\",\"active_inspect\":\"auto\",\"active_multi\":null,\"active_scroll\":\"auto\",\"active_tap\":\"auto\",\"tools\":[{\"id\":\"14567\"},{\"id\":\"14568\"},{\"id\":\"14569\"},{\"id\":\"14570\"},{\"id\":\"14588\"},{\"id\":\"14589\"},{\"id\":\"14590\"},{\"id\":\"14591\"},{\"id\":\"14592\"}]},\"id\":\"14594\",\"type\":\"Toolbar\"},{\"attributes\":{},\"id\":\"14592\",\"type\":\"ResetTool\"},{\"attributes\":{\"overlay\":{\"id\":\"14593\"}},\"id\":\"14591\",\"type\":\"BoxZoomTool\"},{\"attributes\":{\"code\":\"var value = tick;\\nvar _pyfunc_str = String;\\nvar formatter;\\nformatter = function () {\\n    return _pyfunc_str(value);\\n};\\n\\nreturn formatter();\\n\"},\"id\":\"14604\",\"type\":\"FuncTickFormatter\"},{\"attributes\":{\"margin\":[5,5,5,5],\"name\":\"HSpacer60457\",\"sizing_mode\":\"stretch_width\"},\"id\":\"14564\",\"type\":\"Spacer\"},{\"attributes\":{},\"id\":\"14578\",\"type\":\"LinearScale\"},{\"attributes\":{\"fill_alpha\":{\"value\":0.1},\"fill_color\":{\"value\":\"#30a2da\"},\"line_alpha\":{\"value\":0.1},\"line_color\":{\"value\":\"#30a2da\"},\"size\":{\"units\":\"screen\",\"value\":8},\"x\":{\"field\":\"x\"},\"y\":{\"field\":\"y\"}},\"id\":\"14652\",\"type\":\"Scatter\"},{\"attributes\":{\"end\":150,\"reset_end\":150,\"reset_start\":0,\"tags\":[[[\"nb_adherents\",\"nb_adherents\",null]]]},\"id\":\"14565\",\"type\":\"Range1d\"},{\"attributes\":{\"children\":[{\"id\":\"14564\"},{\"id\":\"14571\"},{\"id\":\"14827\"}],\"margin\":[0,0,0,0],\"name\":\"Row60453\",\"tags\":[\"embedded\"]},\"id\":\"14563\",\"type\":\"Row\"},{\"attributes\":{\"callback\":null,\"renderers\":[{\"id\":\"14635\"}],\"tags\":[\"hv_created\"],\"tooltips\":[[\"nb_adherents\",\"@{nb_adherents}\"],[\"tresor_2000\",\"@{tresor_2000}\"]]},\"id\":\"14569\",\"type\":\"HoverTool\"},{\"attributes\":{\"data\":{\"x\":[45],\"y\":[90000]},\"selected\":{\"id\":\"14657\"},\"selection_policy\":{\"id\":\"14690\"}},\"id\":\"14656\",\"type\":\"ColumnDataSource\"},{\"attributes\":{\"data_source\":{\"id\":\"14613\"},\"glyph\":{\"id\":\"14616\"},\"hover_glyph\":null,\"muted_glyph\":{\"id\":\"14618\"},\"nonselection_glyph\":{\"id\":\"14617\"},\"selection_glyph\":null,\"view\":{\"id\":\"14620\"}},\"id\":\"14619\",\"type\":\"GlyphRenderer\"},{\"attributes\":{},\"id\":\"14684\",\"type\":\"UnionRenderers\"},{\"attributes\":{\"line_alpha\":0.2,\"line_color\":\"#1f77b3\",\"line_width\":2,\"x\":{\"field\":\"nb_adherents\"},\"y\":{\"field\":\"tresor_4000\"}},\"id\":\"14618\",\"type\":\"Line\"},{\"attributes\":{\"axis\":{\"id\":\"14584\"},\"dimension\":1,\"ticker\":{\"id\":\"14585\"}},\"id\":\"14587\",\"type\":\"Grid\"},{\"attributes\":{\"data_source\":{\"id\":\"14621\"},\"glyph\":{\"id\":\"14624\"},\"hover_glyph\":null,\"muted_glyph\":{\"id\":\"14626\"},\"nonselection_glyph\":{\"id\":\"14625\"},\"selection_glyph\":null,\"view\":{\"id\":\"14628\"}},\"id\":\"14627\",\"type\":\"GlyphRenderer\"},{\"attributes\":{\"axis_label\":\"Tr\\u00e9sor\",\"bounds\":\"auto\",\"formatter\":{\"id\":\"14604\"},\"major_label_orientation\":\"horizontal\",\"ticker\":{\"id\":\"14585\"}},\"id\":\"14584\",\"type\":\"LinearAxis\"},{\"attributes\":{\"fill_color\":{\"value\":\"#30a2da\"},\"line_color\":{\"value\":\"#30a2da\"},\"size\":{\"units\":\"screen\",\"value\":8},\"x\":{\"field\":\"x\"},\"y\":{\"field\":\"y\"}},\"id\":\"14651\",\"type\":\"Scatter\"},{\"attributes\":{},\"id\":\"14686\",\"type\":\"UnionRenderers\"},{\"attributes\":{},\"id\":\"14588\",\"type\":\"SaveTool\"},{\"attributes\":{},\"id\":\"14581\",\"type\":\"BasicTicker\"},{\"attributes\":{\"line_alpha\":0.1,\"line_color\":\"#2ba02b\",\"line_width\":2,\"x\":{\"field\":\"nb_adherents\"},\"y\":{\"field\":\"tresor_2000\"}},\"id\":\"14633\",\"type\":\"Line\"},{\"attributes\":{\"axis\":{\"id\":\"14580\"},\"ticker\":{\"id\":\"14581\"}},\"id\":\"14583\",\"type\":\"Grid\"},{\"attributes\":{},\"id\":\"14605\",\"type\":\"BasicTickFormatter\"}],\"root_ids\":[\"14563\"]},\"title\":\"Bokeh Application\",\"version\":\"2.0.1\"}};\n",
       "  var render_items = [{\"docid\":\"77bdd2d9-b8a5-4294-9d4d-ff3f9288b0eb\",\"root_ids\":[\"14563\"],\"roots\":{\"14563\":\"3d94224c-87cd-405e-8a1b-97789db600a0\"}}];\n",
       "  root.Bokeh.embed.embed_items_notebook(docs_json, render_items);\n",
       "  }\n",
       "if (root.Bokeh !== undefined) {\n",
       "    embed_document(root);\n",
       "  } else {\n",
       "    var attempts = 0;\n",
       "    var timer = setInterval(function(root) {\n",
       "      if (root.Bokeh !== undefined) {\n",
       "        clearInterval(timer);\n",
       "        embed_document(root);\n",
       "      } else if (document.readyState == \"complete\") {\n",
       "        attempts++;\n",
       "        if (attempts > 100) {\n",
       "          clearInterval(timer);\n",
       "          console.log(\"Bokeh: ERROR: Unable to run BokehJS code because BokehJS library is missing\");\n",
       "        }\n",
       "      }\n",
       "    }, 10, root)\n",
       "  }\n",
       "})(window);</script>"
      ],
      "text/plain": [
       ":Overlay\n",
       "   .Curve.I    :Curve   [nb_adherents]   (tresor_4000)\n",
       "   .Curve.II   :Curve   [nb_adherents]   (tresor_3000)\n",
       "   .Curve.III  :Curve   [nb_adherents]   (tresor_2000)\n",
       "   .Curve.IV   :Curve   [nb_adherents]   (tresor_calc_ratio_famille)\n",
       "   .VLine.I    :VLine   [x,y]\n",
       "   .Points.I   :Points   [x,y]\n",
       "   .Points.II  :Points   [x,y]\n",
       "   .Points.III :Points   [x,y]\n",
       "   .HLine.I    :HLine   [x,y]"
      ]
     },
     "execution_count": 459,
     "metadata": {
      "application/vnd.holoviews_exec.v0+json": {
       "id": "14563"
      }
     },
     "output_type": "execute_result"
    }
   ],
   "source": [
    "nbAdherent_line = hv.VLine(nbAdherent).opts(alpha=0.5,color='grey', line_width=2,line_dash='dashed' )\n",
    "\n",
    "famille_points = hv.Points((adhesion_famille,adhesion_famille*4000)).opts( size=8)\n",
    "indiv_point = hv.Points((adhesion_indiv,adhesion_indiv*2000)).opts(color='green', size=8)\n",
    "famille_adherents_points = hv.Points((nbAdherent_famille,adhesion_famille*4000)).opts(size=8)\n",
    "\n",
    "total_point = hv.Points((nb_adhesion,montant_tresor)).opts(color='grey', size=8)\n",
    "\n",
    "famille_Hline = hv.HLine(adhesion_famille*4000).opts(alpha=0.3,color='blue',line_width=1)\n",
    "\n",
    "\n",
    "layout = (dfm.hvplot.line(x=\"nb_adherents\", y=\"tresor_4000\") *\n",
    " dfm.hvplot.line(x=\"nb_adherents\", y=\"tresor_3000\") * \n",
    " dfm.hvplot.line(x=\"nb_adherents\", y=\"tresor_2000\") * \n",
    " dfm.hvplot.line(x=\"nb_adherents\", y=\"tresor_calc_ratio_famille\") * \n",
    "\n",
    "nbAdherent_line *\n",
    "          famille_points *\n",
    "          indiv_point * \n",
    "          total_point* \n",
    "         famille_Hline).opts(xlabel=\"Nb adhésions\", ylabel=\"Trésor\",yformatter=formatter,ylim=(0,500000),xlim=(0,150),show_grid=True)\n",
    "layout"
   ]
  },
  {
   "cell_type": "code",
   "execution_count": 460,
   "metadata": {},
   "outputs": [
    {
     "name": "stdout",
     "output_type": "stream",
     "text": [
      "225.0\n"
     ]
    }
   ],
   "source": [
    "\n",
    "print(row[\"nb_adhesion\"])\n"
   ]
  },
  {
   "cell_type": "code",
   "execution_count": 438,
   "metadata": {},
   "outputs": [
    {
     "data": {},
     "metadata": {},
     "output_type": "display_data"
    },
    {
     "data": {
      "application/vnd.holoviews_exec.v0+json": "",
      "text/html": [
       "<div id='14346'>\n",
       "\n",
       "\n",
       "\n",
       "\n",
       "\n",
       "  <div class=\"bk-root\" id=\"0559062b-bfca-4036-9673-837ce374b537\" data-root-id=\"14346\"></div>\n",
       "</div>\n",
       "<script type=\"application/javascript\">(function(root) {\n",
       "  function embed_document(root) {\n",
       "  var docs_json = {\"de6cc49d-ef79-4afd-8b68-82ef50870050\":{\"roots\":{\"references\":[{\"attributes\":{\"line_alpha\":0.2,\"line_color\":\"#1f77b3\",\"line_width\":2,\"x\":{\"field\":\"nb_adherents\"},\"y\":{\"field\":\"nb_adhesion\"}},\"id\":\"14399\",\"type\":\"Line\"},{\"attributes\":{\"end\":150,\"reset_end\":150,\"reset_start\":0,\"tags\":[[[\"nb_adherents\",\"nb_adherents\",null]]]},\"id\":\"14348\",\"type\":\"Range1d\"},{\"attributes\":{\"overlay\":{\"id\":\"14375\"}},\"id\":\"14373\",\"type\":\"BoxZoomTool\"},{\"attributes\":{\"code\":\"var value = tick;\\nvar _pyfunc_str = String;\\nvar formatter;\\nformatter = function () {\\n    return _pyfunc_str(value);\\n};\\n\\nreturn formatter();\\n\"},\"id\":\"14385\",\"type\":\"FuncTickFormatter\"},{\"attributes\":{},\"id\":\"14370\",\"type\":\"SaveTool\"},{\"attributes\":{\"data_source\":{\"id\":\"14402\"},\"glyph\":{\"id\":\"14405\"},\"hover_glyph\":null,\"muted_glyph\":{\"id\":\"14407\"},\"nonselection_glyph\":{\"id\":\"14406\"},\"selection_glyph\":null,\"view\":{\"id\":\"14409\"}},\"id\":\"14408\",\"type\":\"GlyphRenderer\"},{\"attributes\":{\"line_color\":\"#2ba02b\",\"line_width\":2,\"x\":{\"field\":\"nb_adherents\"},\"y\":{\"field\":\"nb_adherents\"}},\"id\":\"14413\",\"type\":\"Line\"},{\"attributes\":{},\"id\":\"14395\",\"type\":\"Selection\"},{\"attributes\":{\"margin\":[5,5,5,5],\"name\":\"HSpacer57654\",\"sizing_mode\":\"stretch_width\"},\"id\":\"14506\",\"type\":\"Spacer\"},{\"attributes\":{\"text\":\"\",\"text_color\":{\"value\":\"black\"},\"text_font_size\":{\"value\":\"12pt\"}},\"id\":\"14354\",\"type\":\"Title\"},{\"attributes\":{\"axis\":{\"id\":\"14362\"},\"ticker\":{\"id\":\"14363\"}},\"id\":\"14365\",\"type\":\"Grid\"},{\"attributes\":{\"data\":{\"nb_adherents\":[1,2,3,4,5,6,7,8,9,10,11,12,13,14,15,16,17,18,19,20,21,22,23,24,25,26,27,28,29,30,31,32,33,34,35,36,37,38,39,40,41,42,43,44,45,46,47,48,49,50,51,52,53,54,55,56,57,58,59,60,61,62,63,64,65,66,67,68,69,70,71,72,73,74,75,76,77,78,79,80,81,82,83,84,85,86,87,88,89,90,91,92,93,94,95,96,97,98,99,100,101,102,103,104,105,106,107,108,109,110,111,112,113,114,115,116,117,118,119,120,121,122,123,124,125,126,127,128,129,130,131,132,133,134,135,136,137,138,139,140,141,142,143,144,145,146,147,148,149,150,151,152,153,154,155,156,157,158,159,160,161,162,163,164,165,166,167,168,169,170,171,172,173,174,175,176,177,178,179,180,181,182,183,184,185,186,187,188,189,190,191,192,193,194,195,196,197,198,199],\"nb_adhesion\":{\"__ndarray__\":\"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\",\"dtype\":\"float64\",\"shape\":[199]}},\"selected\":{\"id\":\"14395\"},\"selection_policy\":{\"id\":\"14423\"}},\"id\":\"14394\",\"type\":\"ColumnDataSource\"},{\"attributes\":{\"line_alpha\":0.1,\"line_color\":\"#1f77b3\",\"line_width\":2,\"x\":{\"field\":\"nb_adherents\"},\"y\":{\"field\":\"nb_adhesion\"}},\"id\":\"14398\",\"type\":\"Line\"},{\"attributes\":{\"callback\":null,\"renderers\":[{\"id\":\"14400\"}],\"tags\":[\"hv_created\"],\"tooltips\":[[\"nb_adherents\",\"@{nb_adherents}\"],[\"nb_adhesion\",\"@{nb_adhesion}\"]]},\"id\":\"14350\",\"type\":\"HoverTool\"},{\"attributes\":{\"line_color\":\"#ff7e0e\",\"line_width\":2,\"x\":{\"field\":\"nb_adherents\"},\"y\":{\"field\":\"nb_adhesion_calc\"}},\"id\":\"14405\",\"type\":\"Line\"},{\"attributes\":{\"callback\":null,\"renderers\":[{\"id\":\"14408\"}],\"tags\":[\"hv_created\"],\"tooltips\":[[\"nb_adherents\",\"@{nb_adherents}\"],[\"nb_adhesion_calc\",\"@{nb_adhesion_calc}\"]]},\"id\":\"14351\",\"type\":\"HoverTool\"},{\"attributes\":{},\"id\":\"14386\",\"type\":\"BasicTickFormatter\"},{\"attributes\":{},\"id\":\"14371\",\"type\":\"PanTool\"},{\"attributes\":{\"line_alpha\":0.1,\"line_color\":\"#ff7e0e\",\"line_width\":2,\"x\":{\"field\":\"nb_adherents\"},\"y\":{\"field\":\"nb_adhesion_calc\"}},\"id\":\"14406\",\"type\":\"Line\"},{\"attributes\":{},\"id\":\"14423\",\"type\":\"UnionRenderers\"},{\"attributes\":{\"source\":{\"id\":\"14402\"}},\"id\":\"14409\",\"type\":\"CDSView\"},{\"attributes\":{},\"id\":\"14372\",\"type\":\"WheelZoomTool\"},{\"attributes\":{\"active_drag\":\"auto\",\"active_inspect\":\"auto\",\"active_multi\":null,\"active_scroll\":\"auto\",\"active_tap\":\"auto\",\"tools\":[{\"id\":\"14350\"},{\"id\":\"14351\"},{\"id\":\"14352\"},{\"id\":\"14370\"},{\"id\":\"14371\"},{\"id\":\"14372\"},{\"id\":\"14373\"},{\"id\":\"14374\"}]},\"id\":\"14376\",\"type\":\"Toolbar\"},{\"attributes\":{\"axis\":{\"id\":\"14366\"},\"dimension\":1,\"ticker\":{\"id\":\"14367\"}},\"id\":\"14369\",\"type\":\"Grid\"},{\"attributes\":{\"data_source\":{\"id\":\"14394\"},\"glyph\":{\"id\":\"14397\"},\"hover_glyph\":null,\"muted_glyph\":{\"id\":\"14399\"},\"nonselection_glyph\":{\"id\":\"14398\"},\"selection_glyph\":null,\"view\":{\"id\":\"14401\"}},\"id\":\"14400\",\"type\":\"GlyphRenderer\"},{\"attributes\":{\"axis_label\":\"Nb adh\\u00e9rents\",\"bounds\":\"auto\",\"formatter\":{\"id\":\"14386\"},\"major_label_orientation\":\"horizontal\",\"ticker\":{\"id\":\"14363\"}},\"id\":\"14362\",\"type\":\"LinearAxis\"},{\"attributes\":{\"axis_label\":\"Nb adh\\u00e9sions\",\"bounds\":\"auto\",\"formatter\":{\"id\":\"14385\"},\"major_label_orientation\":\"horizontal\",\"ticker\":{\"id\":\"14367\"}},\"id\":\"14366\",\"type\":\"LinearAxis\"},{\"attributes\":{},\"id\":\"14411\",\"type\":\"Selection\"},{\"attributes\":{\"line_color\":\"#1f77b3\",\"line_width\":2,\"x\":{\"field\":\"nb_adherents\"},\"y\":{\"field\":\"nb_adhesion\"}},\"id\":\"14397\",\"type\":\"Line\"},{\"attributes\":{\"data_source\":{\"id\":\"14410\"},\"glyph\":{\"id\":\"14413\"},\"hover_glyph\":null,\"muted_glyph\":{\"id\":\"14415\"},\"nonselection_glyph\":{\"id\":\"14414\"},\"selection_glyph\":null,\"view\":{\"id\":\"14417\"}},\"id\":\"14416\",\"type\":\"GlyphRenderer\"},{\"attributes\":{},\"id\":\"14367\",\"type\":\"BasicTicker\"},{\"attributes\":{\"children\":[{\"id\":\"14347\"},{\"id\":\"14353\"},{\"id\":\"14506\"}],\"margin\":[0,0,0,0],\"name\":\"Row57649\",\"tags\":[\"embedded\"]},\"id\":\"14346\",\"type\":\"Row\"},{\"attributes\":{},\"id\":\"14425\",\"type\":\"UnionRenderers\"},{\"attributes\":{\"bottom_units\":\"screen\",\"fill_alpha\":0.5,\"fill_color\":\"lightgrey\",\"left_units\":\"screen\",\"level\":\"overlay\",\"line_alpha\":1.0,\"line_color\":\"black\",\"line_dash\":[4,4],\"line_width\":2,\"render_mode\":\"css\",\"right_units\":\"screen\",\"top_units\":\"screen\"},\"id\":\"14375\",\"type\":\"BoxAnnotation\"},{\"attributes\":{\"source\":{\"id\":\"14394\"}},\"id\":\"14401\",\"type\":\"CDSView\"},{\"attributes\":{\"line_alpha\":0.1,\"line_color\":\"#2ba02b\",\"line_width\":2,\"x\":{\"field\":\"nb_adherents\"},\"y\":{\"field\":\"nb_adherents\"}},\"id\":\"14414\",\"type\":\"Line\"},{\"attributes\":{\"line_alpha\":0.2,\"line_color\":\"#2ba02b\",\"line_width\":2,\"x\":{\"field\":\"nb_adherents\"},\"y\":{\"field\":\"nb_adherents\"}},\"id\":\"14415\",\"type\":\"Line\"},{\"attributes\":{},\"id\":\"14427\",\"type\":\"UnionRenderers\"},{\"attributes\":{\"align\":null,\"below\":[{\"id\":\"14362\"}],\"center\":[{\"id\":\"14365\"},{\"id\":\"14369\"}],\"left\":[{\"id\":\"14366\"}],\"margin\":null,\"min_border_bottom\":10,\"min_border_left\":10,\"min_border_right\":10,\"min_border_top\":10,\"plot_height\":300,\"plot_width\":700,\"renderers\":[{\"id\":\"14400\"},{\"id\":\"14408\"},{\"id\":\"14416\"}],\"sizing_mode\":\"fixed\",\"title\":{\"id\":\"14354\"},\"toolbar\":{\"id\":\"14376\"},\"x_range\":{\"id\":\"14348\"},\"x_scale\":{\"id\":\"14358\"},\"y_range\":{\"id\":\"14349\"},\"y_scale\":{\"id\":\"14360\"}},\"id\":\"14353\",\"subtype\":\"Figure\",\"type\":\"Plot\"},{\"attributes\":{\"source\":{\"id\":\"14410\"}},\"id\":\"14417\",\"type\":\"CDSView\"},{\"attributes\":{},\"id\":\"14374\",\"type\":\"ResetTool\"},{\"attributes\":{},\"id\":\"14363\",\"type\":\"BasicTicker\"},{\"attributes\":{\"end\":500,\"reset_end\":500,\"reset_start\":0,\"tags\":[[[\"nb_adhesion\",\"nb_adhesion\",null]]]},\"id\":\"14349\",\"type\":\"Range1d\"},{\"attributes\":{},\"id\":\"14403\",\"type\":\"Selection\"},{\"attributes\":{\"margin\":[5,5,5,5],\"name\":\"HSpacer57653\",\"sizing_mode\":\"stretch_width\"},\"id\":\"14347\",\"type\":\"Spacer\"},{\"attributes\":{\"callback\":null,\"renderers\":[{\"id\":\"14416\"}],\"tags\":[\"hv_created\"],\"tooltips\":[[\"nb_adherents\",\"@{nb_adherents}\"],[\"nb_adherents\",\"@{nb_adherents}\"]]},\"id\":\"14352\",\"type\":\"HoverTool\"},{\"attributes\":{},\"id\":\"14360\",\"type\":\"LinearScale\"},{\"attributes\":{},\"id\":\"14358\",\"type\":\"LinearScale\"},{\"attributes\":{\"line_alpha\":0.2,\"line_color\":\"#ff7e0e\",\"line_width\":2,\"x\":{\"field\":\"nb_adherents\"},\"y\":{\"field\":\"nb_adhesion_calc\"}},\"id\":\"14407\",\"type\":\"Line\"},{\"attributes\":{\"data\":{\"nb_adherents\":[1,2,3,4,5,6,7,8,9,10,11,12,13,14,15,16,17,18,19,20,21,22,23,24,25,26,27,28,29,30,31,32,33,34,35,36,37,38,39,40,41,42,43,44,45,46,47,48,49,50,51,52,53,54,55,56,57,58,59,60,61,62,63,64,65,66,67,68,69,70,71,72,73,74,75,76,77,78,79,80,81,82,83,84,85,86,87,88,89,90,91,92,93,94,95,96,97,98,99,100,101,102,103,104,105,106,107,108,109,110,111,112,113,114,115,116,117,118,119,120,121,122,123,124,125,126,127,128,129,130,131,132,133,134,135,136,137,138,139,140,141,142,143,144,145,146,147,148,149,150,151,152,153,154,155,156,157,158,159,160,161,162,163,164,165,166,167,168,169,170,171,172,173,174,175,176,177,178,179,180,181,182,183,184,185,186,187,188,189,190,191,192,193,194,195,196,197,198,199]},\"selected\":{\"id\":\"14411\"},\"selection_policy\":{\"id\":\"14427\"}},\"id\":\"14410\",\"type\":\"ColumnDataSource\"},{\"attributes\":{\"data\":{\"nb_adherents\":[1,2,3,4,5,6,7,8,9,10,11,12,13,14,15,16,17,18,19,20,21,22,23,24,25,26,27,28,29,30,31,32,33,34,35,36,37,38,39,40,41,42,43,44,45,46,47,48,49,50,51,52,53,54,55,56,57,58,59,60,61,62,63,64,65,66,67,68,69,70,71,72,73,74,75,76,77,78,79,80,81,82,83,84,85,86,87,88,89,90,91,92,93,94,95,96,97,98,99,100,101,102,103,104,105,106,107,108,109,110,111,112,113,114,115,116,117,118,119,120,121,122,123,124,125,126,127,128,129,130,131,132,133,134,135,136,137,138,139,140,141,142,143,144,145,146,147,148,149,150,151,152,153,154,155,156,157,158,159,160,161,162,163,164,165,166,167,168,169,170,171,172,173,174,175,176,177,178,179,180,181,182,183,184,185,186,187,188,189,190,191,192,193,194,195,196,197,198,199],\"nb_adhesion_calc\":{\"__ndarray__\":\"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\",\"dtype\":\"float64\",\"shape\":[199]}},\"selected\":{\"id\":\"14403\"},\"selection_policy\":{\"id\":\"14425\"}},\"id\":\"14402\",\"type\":\"ColumnDataSource\"}],\"root_ids\":[\"14346\"]},\"title\":\"Bokeh Application\",\"version\":\"2.0.1\"}};\n",
       "  var render_items = [{\"docid\":\"de6cc49d-ef79-4afd-8b68-82ef50870050\",\"root_ids\":[\"14346\"],\"roots\":{\"14346\":\"0559062b-bfca-4036-9673-837ce374b537\"}}];\n",
       "  root.Bokeh.embed.embed_items_notebook(docs_json, render_items);\n",
       "  }\n",
       "if (root.Bokeh !== undefined) {\n",
       "    embed_document(root);\n",
       "  } else {\n",
       "    var attempts = 0;\n",
       "    var timer = setInterval(function(root) {\n",
       "      if (root.Bokeh !== undefined) {\n",
       "        clearInterval(timer);\n",
       "        embed_document(root);\n",
       "      } else if (document.readyState == \"complete\") {\n",
       "        attempts++;\n",
       "        if (attempts > 100) {\n",
       "          clearInterval(timer);\n",
       "          console.log(\"Bokeh: ERROR: Unable to run BokehJS code because BokehJS library is missing\");\n",
       "        }\n",
       "      }\n",
       "    }, 10, root)\n",
       "  }\n",
       "})(window);</script>"
      ],
      "text/plain": [
       ":Overlay\n",
       "   .Curve.I   :Curve   [nb_adherents]   (nb_adhesion)\n",
       "   .Curve.II  :Curve   [nb_adherents]   (nb_adhesion_calc)\n",
       "   .Curve.III :Curve   [nb_adherents]   (nb_adherents)"
      ]
     },
     "execution_count": 438,
     "metadata": {
      "application/vnd.holoviews_exec.v0+json": {
       "id": "14346"
      }
     },
     "output_type": "execute_result"
    }
   ],
   "source": [
    "\n",
    "nb_adherent_r100_line = dfm.hvplot.line(x=\"nb_adherents\", y=\"nb_adhesion\")\n",
    "dynamique_curve = dfm.hvplot.line(x=\"nb_adherents\", y=\"nb_adhesion_calc\")\n",
    "nb_adherent_r1_line = dfm.hvplot.line(x=\"nb_adherents\", y=\"nb_adherents\")\n",
    "\n",
    "\n",
    "layout_ratio = (nb_adherent_r100_line * dynamique_curve *nb_adherent_r1_line\n",
    ").opts(xlabel=\"Nb adhérents\", ylabel=\"Nb adhésions\",yformatter=formatter,ylim=(0,500),xlim=(0,150),show_grid=True)\n",
    "\n",
    "layout_ratio"
   ]
  },
  {
   "cell_type": "code",
   "execution_count": null,
   "metadata": {},
   "outputs": [],
   "source": [
    "\n"
   ]
  },
  {
   "cell_type": "code",
   "execution_count": null,
   "metadata": {},
   "outputs": [],
   "source": []
  },
  {
   "cell_type": "code",
   "execution_count": null,
   "metadata": {},
   "outputs": [],
   "source": []
  },
  {
   "cell_type": "code",
   "execution_count": null,
   "metadata": {},
   "outputs": [],
   "source": []
  },
  {
   "cell_type": "code",
   "execution_count": null,
   "metadata": {},
   "outputs": [],
   "source": []
  },
  {
   "cell_type": "code",
   "execution_count": null,
   "metadata": {},
   "outputs": [],
   "source": []
  },
  {
   "cell_type": "code",
   "execution_count": null,
   "metadata": {},
   "outputs": [],
   "source": []
  },
  {
   "cell_type": "code",
   "execution_count": null,
   "metadata": {},
   "outputs": [],
   "source": []
  },
  {
   "cell_type": "code",
   "execution_count": null,
   "metadata": {},
   "outputs": [],
   "source": []
  },
  {
   "cell_type": "code",
   "execution_count": null,
   "metadata": {},
   "outputs": [],
   "source": []
  },
  {
   "cell_type": "code",
   "execution_count": null,
   "metadata": {},
   "outputs": [],
   "source": []
  },
  {
   "cell_type": "code",
   "execution_count": null,
   "metadata": {},
   "outputs": [],
   "source": []
  },
  {
   "cell_type": "code",
   "execution_count": null,
   "metadata": {},
   "outputs": [],
   "source": []
  },
  {
   "cell_type": "code",
   "execution_count": null,
   "metadata": {},
   "outputs": [],
   "source": []
  },
  {
   "cell_type": "code",
   "execution_count": null,
   "metadata": {},
   "outputs": [],
   "source": []
  }
 ],
 "metadata": {
  "kernelspec": {
   "display_name": "Python 3",
   "language": "python",
   "name": "python3"
  },
  "language_info": {
   "codemirror_mode": {
    "name": "ipython",
    "version": 3
   },
   "file_extension": ".py",
   "mimetype": "text/x-python",
   "name": "python",
   "nbconvert_exporter": "python",
   "pygments_lexer": "ipython3",
   "version": "3.7.7"
  }
 },
 "nbformat": 4,
 "nbformat_minor": 4
}
